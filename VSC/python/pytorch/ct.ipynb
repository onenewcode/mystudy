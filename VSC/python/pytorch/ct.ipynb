{
 "cells": [
  {
   "cell_type": "code",
   "execution_count": null,
   "metadata": {},
   "outputs": [],
   "source": []
  },
  {
   "cell_type": "code",
   "execution_count": 29,
   "metadata": {},
   "outputs": [],
   "source": [
    "import csv\n",
    "import glob\n",
    "import os\n",
    "from collections import namedtuple\n",
    "CandidateInfoTuple = namedtuple(\n",
    "    'CandidateInfoTuple',\n",
    "    'isNodule_bool, diameter_mm, series_uid, center_xyz',\n",
    ")\n",
    "path = 'D:/LUNA16/'\n",
    "mhd_list = glob.glob(path + '/subset*/*.mhd')\n",
    "    # 截取文件名称，不带后缀名\n",
    "presentOnDisk_set = {os.path.split(p)[-1][:-4] for p in mhd_list}\n",
    "diameter_dict = {}\n",
    "with open(path+'CSVFILES/annotations.csv', \"r\") as f:\n",
    "    for row in list(csv.reader(f))[1:]:\n",
    "        series_uid = row[0]\n",
    "        annotationCenter_xyz = tuple([float(x) for x in row[1:4]])\n",
    "        annotationDiameter_mm = float(row[4])\n",
    "        diameter_dict.setdefault(series_uid, []).append(\n",
    "            (annotationCenter_xyz, annotationDiameter_mm)\n",
    "        )\n"
   ]
  },
  {
   "cell_type": "code",
   "execution_count": 30,
   "metadata": {},
   "outputs": [],
   "source": [
    "candidateInfo_list = []\n",
    "with open(path +'CSVFILES/candidates.csv', \"r\") as f:\n",
    "    for row in list(csv.reader(f))[1:]:\n",
    "           series_uid = row[0]\n",
    "           if series_uid not in presentOnDisk_set :\n",
    "               continue\n",
    "           isNodule_bool = bool(int(row[4]))\n",
    "           candidateCenter_xyz = tuple([float(x) for x in row[1:4]])\n",
    "           candidateDiameter_mm = 0.0\n",
    "           for annotation_tup in diameter_dict.get(series_uid, []):\n",
    "               annotationCenter_xyz, annotationDiameter_mm = annotation_tup\n",
    "               for i in range(3):\n",
    "                   delta_mm = abs(candidateCenter_xyz[i] - annotationCenter_xyz[i])\n",
    "                   if delta_mm > annotationDiameter_mm / 4:\n",
    "                       break\n",
    "                   else:\n",
    "                       candidateDiameter_mm = annotationDiameter_mm\n",
    "                       break\n",
    "    candidateInfo_list.append(CandidateInfoTuple(\n",
    "           isNodule_bool,\n",
    "           candidateDiameter_mm,\n",
    "           series_uid,\n",
    "           candidateCenter_xyz,\n",
    "        ))"
   ]
  },
  {
   "cell_type": "code",
   "execution_count": null,
   "metadata": {},
   "outputs": [],
   "source": []
  }
 ],
 "metadata": {
  "kernelspec": {
   "display_name": "pytorch",
   "language": "python",
   "name": "python3"
  },
  "language_info": {
   "codemirror_mode": {
    "name": "ipython",
    "version": 3
   },
   "file_extension": ".py",
   "mimetype": "text/x-python",
   "name": "python",
   "nbconvert_exporter": "python",
   "pygments_lexer": "ipython3",
   "version": "3.10.10"
  },
  "orig_nbformat": 4
 },
 "nbformat": 4,
 "nbformat_minor": 2
}
