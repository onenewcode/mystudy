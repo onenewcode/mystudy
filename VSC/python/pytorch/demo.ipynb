{
 "cells": [
  {
   "cell_type": "code",
   "execution_count": 7,
   "metadata": {},
   "outputs": [],
   "source": [
    "import glob\n",
    "import os\n",
    "path = 'D:/LUNA16/'\n",
    "mhd_list = glob.glob(path + '/subset*/*.mhd')\n",
    "# 截取文件名称，不带后缀名\n",
    "presentOnDisk_set = {os.path.split(p)[-1][:-4] for p in mhd_list}\n",
    "# mhd_list\n",
    "# presentOnDisk_set\n",
    "# len(presentOnDisk_set)"
   ]
  },
  {
   "cell_type": "markdown",
   "metadata": {},
   "source": []
  }
 ],
 "metadata": {
  "kernelspec": {
   "display_name": "pytorch",
   "language": "python",
   "name": "python3"
  },
  "language_info": {
   "codemirror_mode": {
    "name": "ipython",
    "version": 3
   },
   "file_extension": ".py",
   "mimetype": "text/x-python",
   "name": "python",
   "nbconvert_exporter": "python",
   "pygments_lexer": "ipython3",
   "version": "3.10.10"
  },
  "orig_nbformat": 4
 },
 "nbformat": 4,
 "nbformat_minor": 2
}
